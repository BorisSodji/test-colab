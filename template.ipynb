{
  "nbformat": 4,
  "nbformat_minor": 0,
  "metadata": {
    "colab": {
      "name": "intro.ipynb",
      "provenance": [],
      "collapsed_sections": [],
      "toc_visible": true,
      "authorship_tag": "ABX9TyPKVh3+EOS8bdyntKm6jK8I",
      "include_colab_link": true
    },
    "kernelspec": {
      "name": "python3",
      "display_name": "Python 3"
    },
    "language_info": {
      "name": "python"
    }
  },
  "cells": [
    {
      "cell_type": "markdown",
      "metadata": {
        "id": "view-in-github",
        "colab_type": "text"
      },
      "source": [
        "<a href=\"https://colab.research.google.com/github/BorisSodji/test-colab/blob/main/template.ipynb\" target=\"_parent\"><img src=\"https://colab.research.google.com/assets/colab-badge.svg\" alt=\"Open In Colab\"/></a>"
      ]
    },
    {
      "cell_type": "code",
      "source": [
        "product_price = 34.99\n",
        "product_weight = 20\n",
        "\n",
        "print(f'Price: ${product_price}. Weight:{product_weight} lbs ')"
      ],
      "metadata": {
        "id": "J1hhDT5AFmjQ",
        "outputId": "c34f5a4c-926f-46bb-bf3b-dc5c9009cafb",
        "colab": {
          "base_uri": "https://localhost:8080/"
        }
      },
      "execution_count": 5,
      "outputs": [
        {
          "output_type": "stream",
          "name": "stdout",
          "text": [
            "Price: $34.99. Weight:20 lbs \n"
          ]
        }
      ]
    },
    {
      "cell_type": "code",
      "source": [
        "print(40*'=')\n",
        "print('author: johnsmith@sample.com')\n",
        "print('date: 01-01-2021')\n",
        "print(40*'=')"
      ],
      "metadata": {
        "id": "maDR2vVbIohm",
        "outputId": "3af8d987-613d-41eb-d1b6-5465f5c546f5",
        "colab": {
          "base_uri": "https://localhost:8080/"
        }
      },
      "execution_count": 8,
      "outputs": [
        {
          "output_type": "stream",
          "name": "stdout",
          "text": [
            "========================================\n",
            "author: johnsmith@sample.com\n",
            "date: 01-01-2021\n",
            "========================================\n"
          ]
        }
      ]
    }
  ]
}